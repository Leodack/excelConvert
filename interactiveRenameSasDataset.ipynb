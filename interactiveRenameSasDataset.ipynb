{
 "cells": [
  {
   "cell_type": "markdown",
   "metadata": {},
   "source": [
    "Setting up costants and importing the neded libraries"
   ]
  },
  {
   "cell_type": "code",
   "execution_count": null,
   "metadata": {},
   "outputs": [],
   "source": [
    "import pandas as pd\n",
    "\n",
    "invalidValues = [\n",
    "    ' > ', ' < ', ' . ',\n",
    "    ' >', ' <', ' .',\n",
    "    '> ', '< ', '. ',\n",
    "    '>', '<', '.'\n",
    "]\n",
    "\n",
    "searchCol = 'Labels' # maybe, check to be sure\n",
    "minCol = 'Minimun' # maybe, check to be sure\n",
    "middleCol = 'Middle' # maybe, check to be sure\n",
    "filename = '' # insert the filename here"
   ]
  },
  {
   "cell_type": "markdown",
   "metadata": {},
   "source": [
    "Helper function, gets the colum and the list of invalid values and checks if the elements of the column contain at least one value; if so returns a tuple containing True and the found value, otherwise returns (False, None)"
   ]
  },
  {
   "cell_type": "code",
   "execution_count": null,
   "metadata": {},
   "outputs": [],
   "source": [
    "def hasInvalidValue(col, invalidValues):\n",
    "    for val in invalidValues:\n",
    "        if val in col:\n",
    "            return (True, val)\n",
    "    return (False, None)"
   ]
  },
  {
   "cell_type": "markdown",
   "metadata": {},
   "source": [
    "Main body of the program, reads the csv file and loads it in a pandas dataframe"
   ]
  },
  {
   "cell_type": "code",
   "execution_count": null,
   "metadata": {},
   "outputs": [],
   "source": [
    "df = pd.read_csv(filename + '.csv')"
   ]
  },
  {
   "cell_type": "markdown",
   "metadata": {},
   "source": [
    "Iterate through every element of the column, check if the elment contains an invalid value and promp the user for a substitute if found, then update the length columns"
   ]
  },
  {
   "cell_type": "code",
   "execution_count": null,
   "metadata": {},
   "outputs": [],
   "source": [
    "for i, row_value in df[searchCol].iteritems():\n",
    "    isInvalid, val = hasInvalidValue(row_value, invalidValues)\n",
    "    if isInvalid:\n",
    "        print(row_value + ' is invalid, ' + val + ' found')\n",
    "        sub = input('Substitute with ... (press enter to keep the current value)').trim()\n",
    "        if sub != '':\n",
    "            df[searchCol][i] = sub\n",
    "            df[minCol][i] = len(sub)\n",
    "            df[middleCol][i] = len(sub)"
   ]
  },
  {
   "cell_type": "markdown",
   "metadata": {},
   "source": [
    "Save the modified file"
   ]
  },
  {
   "cell_type": "code",
   "execution_count": null,
   "metadata": {},
   "outputs": [],
   "source": [
    "df.to_csv(filename + '_modified.csv')"
   ]
  }
 ],
 "metadata": {
  "kernelspec": {
   "display_name": "Python 3",
   "language": "python",
   "name": "python3"
  },
  "language_info": {
   "codemirror_mode": {
    "name": "ipython",
    "version": 3
   },
   "file_extension": ".py",
   "mimetype": "text/x-python",
   "name": "python",
   "nbconvert_exporter": "python",
   "pygments_lexer": "ipython3",
   "version": "3.7.3"
  }
 },
 "nbformat": 4,
 "nbformat_minor": 2
}
